{
 "cells": [
  {
   "cell_type": "code",
   "execution_count": 1,
   "metadata": {},
   "outputs": [
    {
     "name": "stdout",
     "output_type": "stream",
     "text": [
      "HOPE AI\n"
     ]
    }
   ],
   "source": [
    "print(\"HOPE AI\")"
   ]
  },
  {
   "cell_type": "code",
   "execution_count": 2,
   "metadata": {},
   "outputs": [
    {
     "name": "stdout",
     "output_type": "stream",
     "text": [
      "Enter the institute name?:HOPE AI\n"
     ]
    }
   ],
   "source": [
    "Name=input(\"Enter the institute name?:\")"
   ]
  },
  {
   "cell_type": "code",
   "execution_count": 4,
   "metadata": {},
   "outputs": [
    {
     "name": "stdout",
     "output_type": "stream",
     "text": [
      "Enter your name:Raj\n",
      "Enter your age:15\n",
      "Enter your school name:Guru school\n",
      "Enter your degree:B.E CSE\n"
     ]
    }
   ],
   "source": [
    "Name=input(\"Enter your name:\")\n",
    "age=int(input(\"Enter your age:\"))\n",
    "Schoolname=input(\"Enter your school name:\")\n",
    "Degree=input(\"Enter your degree:\")"
   ]
  },
  {
   "cell_type": "code",
   "execution_count": 4,
   "metadata": {},
   "outputs": [
    {
     "name": "stdout",
     "output_type": "stream",
     "text": [
      "a:43\n",
      "b:34\n",
      "add: 77\n"
     ]
    }
   ],
   "source": [
    "num1=43\n",
    "num1=int(input(\"a:\"))\n",
    "num2=34\n",
    "num2=int(input(\"b:\"))\n",
    "add=a+b\n",
    "print(\"add:\",add)"
   ]
  },
  {
   "cell_type": "code",
   "execution_count": 6,
   "metadata": {},
   "outputs": [
    {
     "name": "stdout",
     "output_type": "stream",
     "text": [
      "a:43\n",
      "b:34\n",
      "sub: 9\n"
     ]
    }
   ],
   "source": [
    "num1=43\n",
    "num1=int(input(\"a:\"))\n",
    "num2=34\n",
    "num2=int(input(\"b:\"))\n",
    "sub=a-b\n",
    "print(\"sub:\",sub)"
   ]
  },
  {
   "cell_type": "code",
   "execution_count": 11,
   "metadata": {},
   "outputs": [
    {
     "name": "stdout",
     "output_type": "stream",
     "text": [
      "a:63\n",
      "b:97\n",
      "mul: 6111\n"
     ]
    }
   ],
   "source": [
    "num1=63\n",
    "num1=int(input(\"a:\"))\n",
    "num2=97\n",
    "num2=int(input(\"b:\"))\n",
    "print(\"mul:\",num1*num2)"
   ]
  },
  {
   "cell_type": "code",
   "execution_count": 17,
   "metadata": {},
   "outputs": [
    {
     "name": "stdout",
     "output_type": "stream",
     "text": [
      "a:76\n",
      "b:31\n",
      "floatDiv: 2.4516129032258065\n"
     ]
    }
   ],
   "source": [
    "num1=76\n",
    "num1=int(input(\"a:\"))\n",
    "num2=31\n",
    "num2=int(input(\"b:\"))\n",
    "floatDiv=a/b\n",
    "print(\"floatDiv:\",num1/num2)"
   ]
  },
  {
   "cell_type": "code",
   "execution_count": 19,
   "metadata": {},
   "outputs": [
    {
     "name": "stdout",
     "output_type": "stream",
     "text": [
      "a:76\n",
      "b:31\n",
      "floorDiv: 2\n"
     ]
    }
   ],
   "source": [
    "num1=76\n",
    "num1=int(input(\"a:\"))\n",
    "num2=31\n",
    "num2=int(input(\"b:\"))\n",
    "floorDiv=a//b\n",
    "print(\"floorDiv:\",num1//num2)"
   ]
  },
  {
   "cell_type": "code",
   "execution_count": 20,
   "metadata": {},
   "outputs": [
    {
     "name": "stdout",
     "output_type": "stream",
     "text": [
      "a:76\n",
      "b:31\n",
      "modulo: 14\n"
     ]
    }
   ],
   "source": [
    "num1=76\n",
    "num1=int(input(\"a:\"))\n",
    "num2=31\n",
    "num2=int(input(\"b:\"))\n",
    "modulo=a%b\n",
    "print(\"modulo:\",num1%num2)"
   ]
  },
  {
   "cell_type": "code",
   "execution_count": 25,
   "metadata": {},
   "outputs": [
    {
     "name": "stdout",
     "output_type": "stream",
     "text": [
      "a:4\n",
      "b:4\n",
      "power: 256\n"
     ]
    }
   ],
   "source": [
    "num1=4\n",
    "num1=int(input(\"a:\"))\n",
    "num2=4\n",
    "num2=int(input(\"b:\"))\n",
    "print(\"power:\",(num1*num1)*(num2*num2))"
   ]
  },
  {
   "cell_type": "code",
   "execution_count": null,
   "metadata": {},
   "outputs": [],
   "source": []
  }
 ],
 "metadata": {
  "kernelspec": {
   "display_name": "Python 3",
   "language": "python",
   "name": "python3"
  },
  "language_info": {
   "codemirror_mode": {
    "name": "ipython",
    "version": 3
   },
   "file_extension": ".py",
   "mimetype": "text/x-python",
   "name": "python",
   "nbconvert_exporter": "python",
   "pygments_lexer": "ipython3",
   "version": "3.7.4"
  }
 },
 "nbformat": 4,
 "nbformat_minor": 2
}
