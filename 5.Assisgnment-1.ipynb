{
 "cells": [
  {
   "cell_type": "code",
   "execution_count": 1,
   "metadata": {},
   "outputs": [
    {
     "name": "stdout",
     "output_type": "stream",
     "text": [
      "HOPE AI\n"
     ]
    }
   ],
   "source": [
    "print(\"HOPE AI\")"
   ]
  },
  {
   "cell_type": "code",
   "execution_count": 2,
   "metadata": {},
   "outputs": [
    {
     "name": "stdout",
     "output_type": "stream",
     "text": [
      "Enter the institute name?:HOPE AI\n"
     ]
    }
   ],
   "source": [
    "Name=input(\"Enter the institute name?:\")"
   ]
  },
  {
   "cell_type": "code",
   "execution_count": 4,
   "metadata": {},
   "outputs": [
    {
     "name": "stdout",
     "output_type": "stream",
     "text": [
      "Enter your name:Raj\n",
      "Enter your age:15\n",
      "Enter your school name:Guru school\n",
      "Enter your degree:B.E CSE\n"
     ]
    }
   ],
   "source": [
    "Name=input(\"Enter your name:\")\n",
    "age=int(input(\"Enter your age:\"))\n",
    "Schoolname=input(\"Enter your school name:\")\n",
    "Degree=input(\"Enter your degree:\")"
   ]
  },
  {
   "cell_type": "code",
   "execution_count": 5,
   "metadata": {},
   "outputs": [
    {
     "name": "stdout",
     "output_type": "stream",
     "text": [
      "a: 43\n",
      "b: 34\n",
      "add: 77\n"
     ]
    }
   ],
   "source": [
    "a=43\n",
    "print(\"a:\",a)\n",
    "b=34\n",
    "print(\"b:\",b)\n",
    "add=a+b\n",
    "print(\"add:\",add)"
   ]
  },
  {
   "cell_type": "code",
   "execution_count": 11,
   "metadata": {},
   "outputs": [
    {
     "name": "stdout",
     "output_type": "stream",
     "text": [
      "a: 43\n",
      "b: 34\n",
      "sub: 9\n"
     ]
    }
   ],
   "source": [
    "a=43\n",
    "print(\"a:\",a)\n",
    "b=34\n",
    "print(\"b:\",b)\n",
    "sub=a-b\n",
    "print(\"sub:\",sub)"
   ]
  },
  {
   "cell_type": "code",
   "execution_count": 12,
   "metadata": {},
   "outputs": [
    {
     "name": "stdout",
     "output_type": "stream",
     "text": [
      "a: 63\n",
      "b: 97\n",
      "mul: 6111\n"
     ]
    }
   ],
   "source": [
    "a=63\n",
    "print(\"a:\",a)\n",
    "b=97\n",
    "print(\"b:\",b)\n",
    "mul=a*b\n",
    "print(\"mul:\",mul)"
   ]
  },
  {
   "cell_type": "code",
   "execution_count": 14,
   "metadata": {},
   "outputs": [
    {
     "name": "stdout",
     "output_type": "stream",
     "text": [
      "a: 76\n",
      "b: 31\n",
      "FloatDiv: 2.4516129032258065\n"
     ]
    }
   ],
   "source": [
    "a=76\n",
    "print(\"a:\",a)\n",
    "b=31\n",
    "print(\"b:\",b)\n",
    "FloatDiv=a/b\n",
    "print(\"FloatDiv:\",FloatDiv)"
   ]
  },
  {
   "cell_type": "code",
   "execution_count": 16,
   "metadata": {},
   "outputs": [
    {
     "name": "stdout",
     "output_type": "stream",
     "text": [
      "a: 76\n",
      "b: 31\n",
      "FloorDiv: 2\n"
     ]
    }
   ],
   "source": [
    "a=76\n",
    "print(\"a:\",a)\n",
    "b=31\n",
    "print(\"b:\",b)\n",
    "FloorDiv=a//b\n",
    "print(\"FloorDiv:\",FloorDiv)"
   ]
  },
  {
   "cell_type": "code",
   "execution_count": 17,
   "metadata": {},
   "outputs": [
    {
     "name": "stdout",
     "output_type": "stream",
     "text": [
      "a: 76\n",
      "b: 31\n",
      "modulo: 14\n"
     ]
    }
   ],
   "source": [
    "a=76\n",
    "print(\"a:\",a)\n",
    "b=31\n",
    "print(\"b:\",b)\n",
    "modulo=a%b\n",
    "print(\"modulo:\",modulo)"
   ]
  },
  {
   "cell_type": "code",
   "execution_count": 23,
   "metadata": {},
   "outputs": [
    {
     "name": "stdout",
     "output_type": "stream",
     "text": [
      "a: 4\n",
      "b: 4\n",
      "power: 256\n"
     ]
    }
   ],
   "source": [
    "a=4\n",
    "print(\"a:\",a)\n",
    "b=4\n",
    "print(\"b:\",b)\n",
    "power=(a*a)*(b*b)\n",
    "print(\"power:\",power)"
   ]
  },
  {
   "cell_type": "code",
   "execution_count": null,
   "metadata": {},
   "outputs": [],
   "source": []
  }
 ],
 "metadata": {
  "kernelspec": {
   "display_name": "Python 3",
   "language": "python",
   "name": "python3"
  },
  "language_info": {
   "codemirror_mode": {
    "name": "ipython",
    "version": 3
   },
   "file_extension": ".py",
   "mimetype": "text/x-python",
   "name": "python",
   "nbconvert_exporter": "python",
   "pygments_lexer": "ipython3",
   "version": "3.7.4"
  }
 },
 "nbformat": 4,
 "nbformat_minor": 2
}
