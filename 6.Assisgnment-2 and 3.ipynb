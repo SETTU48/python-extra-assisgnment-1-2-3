{
 "cells": [
  {
   "cell_type": "code",
   "execution_count": 5,
   "metadata": {},
   "outputs": [
    {
     "name": "stdout",
     "output_type": "stream",
     "text": [
      "0\n",
      "1\n",
      "2\n",
      "3\n",
      "4\n",
      "5\n",
      "6\n",
      "7\n",
      "8\n",
      "9\n",
      "10\n",
      "11\n",
      "12\n",
      "13\n",
      "14\n",
      "15\n",
      "16\n",
      "17\n",
      "18\n",
      "19\n"
     ]
    }
   ],
   "source": [
    "for num in range(0,20):\n",
    "    print(num)"
   ]
  },
  {
   "cell_type": "raw",
   "metadata": {},
   "source": []
  },
  {
   "cell_type": "code",
   "execution_count": 19,
   "metadata": {},
   "outputs": [
    {
     "name": "stdout",
     "output_type": "stream",
     "text": [
      "10 11 12 13 14 15 16 17 18 19 "
     ]
    }
   ],
   "source": [
    "for num in range(10,20):\n",
    "    print(num, end=\" \")"
   ]
  },
  {
   "cell_type": "code",
   "execution_count": 7,
   "metadata": {},
   "outputs": [
    {
     "name": "stdout",
     "output_type": "stream",
     "text": [
      "[10, 20, 14, 55, 43, 87, 76]\n",
      "The number of iteams in lists= 7\n"
     ]
    }
   ],
   "source": [
    "lists=[10,20,14,55,43,87,76]\n",
    "print(lists)\n",
    "print(\"The number of iteams in lists=\",len(lists))\n",
    "    \n"
   ]
  },
  {
   "cell_type": "code",
   "execution_count": 12,
   "metadata": {},
   "outputs": [
    {
     "name": "stdout",
     "output_type": "stream",
     "text": [
      "Artificial Intelligence\n"
     ]
    }
   ],
   "source": [
    "print(\"Artificial Intelligence\")\n",
    "\n"
   ]
  },
  {
   "cell_type": "code",
   "execution_count": 25,
   "metadata": {},
   "outputs": [
    {
     "name": "stdout",
     "output_type": "stream",
     "text": [
      "Your Name:-\n",
      "Your age:-\n",
      "Your profession:-\n"
     ]
    }
   ],
   "source": [
    "Name=input(\"Your Name:\")\n",
    "age=(input(\"Your age:\"))\n",
    "Profession=input(\"Your profession:\")"
   ]
  },
  {
   "cell_type": "code",
   "execution_count": 13,
   "metadata": {},
   "outputs": [
    {
     "name": "stdout",
     "output_type": "stream",
     "text": [
      "[20, 10, 16, 19, 25, 1, 276, 188]\n",
      "20 is a Even number\n",
      "10 is a Even number\n",
      "16 is a Even number\n",
      "276 is a Even number\n",
      "188 is a Even number\n"
     ]
    }
   ],
   "source": [
    "lists=[20,10,16,19,25,1,276,188]\n",
    "print(lists)\n",
    "for temp in lists:\n",
    "    if ((temp%2)==0):\n",
    "        print(temp,\"is a Even number\")\n",
    "  \n",
    "        "
   ]
  },
  {
   "cell_type": "code",
   "execution_count": 30,
   "metadata": {},
   "outputs": [
    {
     "name": "stdout",
     "output_type": "stream",
     "text": [
      "value:10\n",
      "corret\n"
     ]
    }
   ],
   "source": [
    "number=int(input(\"value:\"))\n",
    "if(number==10):\n",
    "    print(\"corret\")\n"
   ]
  },
  {
   "cell_type": "code",
   "execution_count": null,
   "metadata": {},
   "outputs": [],
   "source": []
  },
  {
   "cell_type": "code",
   "execution_count": 22,
   "metadata": {},
   "outputs": [
    {
     "name": "stdout",
     "output_type": "stream",
     "text": [
      "Enter the age:20\n",
      "Adult\n"
     ]
    }
   ],
   "source": [
    "age=int(input(\"Enter the age:\"))\n",
    "if(age<18):\n",
    "    print(\"children\")\n",
    "elif(age<35):\n",
    "    print(\"Adult\")\n",
    "elif(age<50):\n",
    "    print(\"citizen\")\n",
    "else:\n",
    "    print(\"senoir citizen\")"
   ]
  },
  {
   "cell_type": "code",
   "execution_count": 14,
   "metadata": {},
   "outputs": [
    {
     "name": "stdout",
     "output_type": "stream",
     "text": [
      "[20, 10, 16, 19, 25, 1, 276, 188]\n",
      "19 is a odd number\n",
      "25 is a odd number\n",
      "1 is a odd number\n"
     ]
    }
   ],
   "source": [
    "lists=[20,10,16,19,25,1,276,188]\n",
    "print(lists)\n",
    "for temp in lists:\n",
    "    if ((temp%2)==1):\n",
    "        print(temp,\"is a odd number\")\n",
    "  "
   ]
  },
  {
   "cell_type": "code",
   "execution_count": 29,
   "metadata": {},
   "outputs": [
    {
     "name": "stdout",
     "output_type": "stream",
     "text": [
      "Enter the password:HOPE@123\n",
      "password is correcet\n"
     ]
    }
   ],
   "source": [
    "word=\"HOPE@123\"\n",
    "pw=input(\"Enter the password:\")\n",
    "if(pw==word):\n",
    "    print(\"password is correcet\")\n",
    "else:\n",
    "    print(\"password is incorrect\")"
   ]
  },
  {
   "cell_type": "code",
   "execution_count": null,
   "metadata": {},
   "outputs": [],
   "source": []
  }
 ],
 "metadata": {
  "kernelspec": {
   "display_name": "Python 3",
   "language": "python",
   "name": "python3"
  },
  "language_info": {
   "codemirror_mode": {
    "name": "ipython",
    "version": 3
   },
   "file_extension": ".py",
   "mimetype": "text/x-python",
   "name": "python",
   "nbconvert_exporter": "python",
   "pygments_lexer": "ipython3",
   "version": "3.7.4"
  }
 },
 "nbformat": 4,
 "nbformat_minor": 2
}
